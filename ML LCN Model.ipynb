{
 "cells": [
  {
   "cell_type": "code",
   "execution_count": 1,
   "id": "6cf606b4-1626-4b84-a91a-b53e05af375d",
   "metadata": {},
   "outputs": [],
   "source": [
    "import pandas as pd\n",
    "import numpy as np"
   ]
  },
  {
   "cell_type": "code",
   "execution_count": 2,
   "id": "0fa73f51-1fed-4143-91a2-0fe40b425911",
   "metadata": {},
   "outputs": [],
   "source": [
    "# Step 2 : Get/Load the Data"
   ]
  },
  {
   "cell_type": "code",
   "execution_count": 3,
   "id": "b46ac40f-42ec-4a8e-87c0-1f67eb6b9d13",
   "metadata": {},
   "outputs": [],
   "source": [
    "lcn=pd.read_csv(r\"LungCapData.csv\")"
   ]
  },
  {
   "cell_type": "code",
   "execution_count": 4,
   "id": "2a2ac9e6-d455-43f2-a2ed-2892f9dbb7cd",
   "metadata": {},
   "outputs": [
    {
     "data": {
      "text/html": [
       "<div>\n",
       "<style scoped>\n",
       "    .dataframe tbody tr th:only-of-type {\n",
       "        vertical-align: middle;\n",
       "    }\n",
       "\n",
       "    .dataframe tbody tr th {\n",
       "        vertical-align: top;\n",
       "    }\n",
       "\n",
       "    .dataframe thead th {\n",
       "        text-align: right;\n",
       "    }\n",
       "</style>\n",
       "<table border=\"1\" class=\"dataframe\">\n",
       "  <thead>\n",
       "    <tr style=\"text-align: right;\">\n",
       "      <th></th>\n",
       "      <th>LungCap</th>\n",
       "      <th>Age</th>\n",
       "      <th>Height</th>\n",
       "      <th>Smoke</th>\n",
       "      <th>Gender</th>\n",
       "      <th>Caesarean</th>\n",
       "    </tr>\n",
       "  </thead>\n",
       "  <tbody>\n",
       "    <tr>\n",
       "      <th>0</th>\n",
       "      <td>6.475</td>\n",
       "      <td>6</td>\n",
       "      <td>62.1</td>\n",
       "      <td>no</td>\n",
       "      <td>male</td>\n",
       "      <td>no</td>\n",
       "    </tr>\n",
       "    <tr>\n",
       "      <th>1</th>\n",
       "      <td>10.125</td>\n",
       "      <td>18</td>\n",
       "      <td>74.7</td>\n",
       "      <td>yes</td>\n",
       "      <td>female</td>\n",
       "      <td>no</td>\n",
       "    </tr>\n",
       "    <tr>\n",
       "      <th>2</th>\n",
       "      <td>9.550</td>\n",
       "      <td>16</td>\n",
       "      <td>69.7</td>\n",
       "      <td>no</td>\n",
       "      <td>female</td>\n",
       "      <td>yes</td>\n",
       "    </tr>\n",
       "    <tr>\n",
       "      <th>3</th>\n",
       "      <td>11.125</td>\n",
       "      <td>14</td>\n",
       "      <td>71.0</td>\n",
       "      <td>no</td>\n",
       "      <td>male</td>\n",
       "      <td>no</td>\n",
       "    </tr>\n",
       "    <tr>\n",
       "      <th>4</th>\n",
       "      <td>4.800</td>\n",
       "      <td>5</td>\n",
       "      <td>56.9</td>\n",
       "      <td>no</td>\n",
       "      <td>male</td>\n",
       "      <td>no</td>\n",
       "    </tr>\n",
       "  </tbody>\n",
       "</table>\n",
       "</div>"
      ],
      "text/plain": [
       "   LungCap  Age  Height Smoke  Gender Caesarean\n",
       "0    6.475    6    62.1    no    male        no\n",
       "1   10.125   18    74.7   yes  female        no\n",
       "2    9.550   16    69.7    no  female       yes\n",
       "3   11.125   14    71.0    no    male        no\n",
       "4    4.800    5    56.9    no    male        no"
      ]
     },
     "execution_count": 4,
     "metadata": {},
     "output_type": "execute_result"
    }
   ],
   "source": [
    "lcn.head()"
   ]
  },
  {
   "cell_type": "code",
   "execution_count": 5,
   "id": "bcca02f2-bff5-4c41-b9a6-e23b688e0f3f",
   "metadata": {},
   "outputs": [],
   "source": [
    "# Step 3 : Data Cleaning and Preprocessing"
   ]
  },
  {
   "cell_type": "code",
   "execution_count": 6,
   "id": "b91a3b0d-9033-44e6-8b2e-56513439fbe9",
   "metadata": {},
   "outputs": [
    {
     "data": {
      "text/plain": [
       "(725, 6)"
      ]
     },
     "execution_count": 6,
     "metadata": {},
     "output_type": "execute_result"
    }
   ],
   "source": [
    "lcn.shape"
   ]
  },
  {
   "cell_type": "code",
   "execution_count": 7,
   "id": "698750d6-65da-4354-a252-bfff7c97e54d",
   "metadata": {},
   "outputs": [
    {
     "name": "stdout",
     "output_type": "stream",
     "text": [
      "<class 'pandas.core.frame.DataFrame'>\n",
      "RangeIndex: 725 entries, 0 to 724\n",
      "Data columns (total 6 columns):\n",
      " #   Column     Non-Null Count  Dtype  \n",
      "---  ------     --------------  -----  \n",
      " 0   LungCap    725 non-null    float64\n",
      " 1   Age        725 non-null    int64  \n",
      " 2   Height     725 non-null    float64\n",
      " 3   Smoke      725 non-null    object \n",
      " 4   Gender     725 non-null    object \n",
      " 5   Caesarean  725 non-null    object \n",
      "dtypes: float64(2), int64(1), object(3)\n",
      "memory usage: 34.1+ KB\n"
     ]
    }
   ],
   "source": [
    "lcn.info()"
   ]
  },
  {
   "cell_type": "code",
   "execution_count": 8,
   "id": "723f9b12-4965-40c8-b6c2-965b90275cef",
   "metadata": {},
   "outputs": [
    {
     "data": {
      "text/plain": [
       "LungCap      0\n",
       "Age          0\n",
       "Height       0\n",
       "Smoke        0\n",
       "Gender       0\n",
       "Caesarean    0\n",
       "dtype: int64"
      ]
     },
     "execution_count": 8,
     "metadata": {},
     "output_type": "execute_result"
    }
   ],
   "source": [
    "lcn.isnull().sum()"
   ]
  },
  {
   "cell_type": "code",
   "execution_count": 9,
   "id": "46b05272-377d-4a1b-a3aa-788531628289",
   "metadata": {},
   "outputs": [],
   "source": [
    "lcn.Smoke = lcn.Smoke.replace({'no':0 , 'yes':1})"
   ]
  },
  {
   "cell_type": "code",
   "execution_count": 10,
   "id": "a39ab777-ad57-4d8e-985f-e3544e24ac92",
   "metadata": {},
   "outputs": [],
   "source": [
    "lcn.Gender.replace({'male':1 , 'female':0} , inplace=True)"
   ]
  },
  {
   "cell_type": "code",
   "execution_count": 11,
   "id": "8afc0bf6-797d-4895-88e9-10e58f0c1e5e",
   "metadata": {},
   "outputs": [],
   "source": [
    "lcn.Caesarean.replace({'no':0 , 'yes':1} , inplace=True)"
   ]
  },
  {
   "cell_type": "code",
   "execution_count": 12,
   "id": "9491ac15-2eba-418f-ba5b-6423243ff964",
   "metadata": {},
   "outputs": [
    {
     "data": {
      "text/html": [
       "<div>\n",
       "<style scoped>\n",
       "    .dataframe tbody tr th:only-of-type {\n",
       "        vertical-align: middle;\n",
       "    }\n",
       "\n",
       "    .dataframe tbody tr th {\n",
       "        vertical-align: top;\n",
       "    }\n",
       "\n",
       "    .dataframe thead th {\n",
       "        text-align: right;\n",
       "    }\n",
       "</style>\n",
       "<table border=\"1\" class=\"dataframe\">\n",
       "  <thead>\n",
       "    <tr style=\"text-align: right;\">\n",
       "      <th></th>\n",
       "      <th>LungCap</th>\n",
       "      <th>Age</th>\n",
       "      <th>Height</th>\n",
       "      <th>Smoke</th>\n",
       "      <th>Gender</th>\n",
       "      <th>Caesarean</th>\n",
       "    </tr>\n",
       "  </thead>\n",
       "  <tbody>\n",
       "    <tr>\n",
       "      <th>0</th>\n",
       "      <td>6.475</td>\n",
       "      <td>6</td>\n",
       "      <td>62.1</td>\n",
       "      <td>0</td>\n",
       "      <td>1</td>\n",
       "      <td>0</td>\n",
       "    </tr>\n",
       "    <tr>\n",
       "      <th>1</th>\n",
       "      <td>10.125</td>\n",
       "      <td>18</td>\n",
       "      <td>74.7</td>\n",
       "      <td>1</td>\n",
       "      <td>0</td>\n",
       "      <td>0</td>\n",
       "    </tr>\n",
       "    <tr>\n",
       "      <th>2</th>\n",
       "      <td>9.550</td>\n",
       "      <td>16</td>\n",
       "      <td>69.7</td>\n",
       "      <td>0</td>\n",
       "      <td>0</td>\n",
       "      <td>1</td>\n",
       "    </tr>\n",
       "    <tr>\n",
       "      <th>3</th>\n",
       "      <td>11.125</td>\n",
       "      <td>14</td>\n",
       "      <td>71.0</td>\n",
       "      <td>0</td>\n",
       "      <td>1</td>\n",
       "      <td>0</td>\n",
       "    </tr>\n",
       "    <tr>\n",
       "      <th>4</th>\n",
       "      <td>4.800</td>\n",
       "      <td>5</td>\n",
       "      <td>56.9</td>\n",
       "      <td>0</td>\n",
       "      <td>1</td>\n",
       "      <td>0</td>\n",
       "    </tr>\n",
       "  </tbody>\n",
       "</table>\n",
       "</div>"
      ],
      "text/plain": [
       "   LungCap  Age  Height  Smoke  Gender  Caesarean\n",
       "0    6.475    6    62.1      0       1          0\n",
       "1   10.125   18    74.7      1       0          0\n",
       "2    9.550   16    69.7      0       0          1\n",
       "3   11.125   14    71.0      0       1          0\n",
       "4    4.800    5    56.9      0       1          0"
      ]
     },
     "execution_count": 12,
     "metadata": {},
     "output_type": "execute_result"
    }
   ],
   "source": [
    "lcn.head()"
   ]
  },
  {
   "cell_type": "code",
   "execution_count": 13,
   "id": "324c0009-a0e6-4420-9157-bc79b80deb16",
   "metadata": {},
   "outputs": [
    {
     "name": "stdout",
     "output_type": "stream",
     "text": [
      "<class 'pandas.core.frame.DataFrame'>\n",
      "RangeIndex: 725 entries, 0 to 724\n",
      "Data columns (total 6 columns):\n",
      " #   Column     Non-Null Count  Dtype  \n",
      "---  ------     --------------  -----  \n",
      " 0   LungCap    725 non-null    float64\n",
      " 1   Age        725 non-null    int64  \n",
      " 2   Height     725 non-null    float64\n",
      " 3   Smoke      725 non-null    int64  \n",
      " 4   Gender     725 non-null    int64  \n",
      " 5   Caesarean  725 non-null    int64  \n",
      "dtypes: float64(2), int64(4)\n",
      "memory usage: 34.1 KB\n"
     ]
    }
   ],
   "source": [
    "lcn.info()"
   ]
  },
  {
   "cell_type": "code",
   "execution_count": 14,
   "id": "ea63b5c6-4db1-4eca-8b7e-47ecdecf36d7",
   "metadata": {},
   "outputs": [],
   "source": [
    "# Step 4 : Sampling"
   ]
  },
  {
   "cell_type": "code",
   "execution_count": 15,
   "id": "cc52f66c-6639-4a3f-bb41-3300cf7cd584",
   "metadata": {},
   "outputs": [],
   "source": [
    "from sklearn.model_selection import train_test_split"
   ]
  },
  {
   "cell_type": "code",
   "execution_count": 16,
   "id": "05d8f44f-0ead-45e0-8138-5e42a77e70e8",
   "metadata": {},
   "outputs": [],
   "source": [
    "lcn_train, lcn_test = train_test_split(lcn, test_size = 0.2)"
   ]
  },
  {
   "cell_type": "code",
   "execution_count": 17,
   "id": "f6679c9e-0f69-4df3-bcc7-12f9dae329c1",
   "metadata": {},
   "outputs": [
    {
     "data": {
      "text/html": [
       "<div>\n",
       "<style scoped>\n",
       "    .dataframe tbody tr th:only-of-type {\n",
       "        vertical-align: middle;\n",
       "    }\n",
       "\n",
       "    .dataframe tbody tr th {\n",
       "        vertical-align: top;\n",
       "    }\n",
       "\n",
       "    .dataframe thead th {\n",
       "        text-align: right;\n",
       "    }\n",
       "</style>\n",
       "<table border=\"1\" class=\"dataframe\">\n",
       "  <thead>\n",
       "    <tr style=\"text-align: right;\">\n",
       "      <th></th>\n",
       "      <th>LungCap</th>\n",
       "      <th>Age</th>\n",
       "      <th>Height</th>\n",
       "      <th>Smoke</th>\n",
       "      <th>Gender</th>\n",
       "      <th>Caesarean</th>\n",
       "    </tr>\n",
       "  </thead>\n",
       "  <tbody>\n",
       "    <tr>\n",
       "      <th>242</th>\n",
       "      <td>6.575</td>\n",
       "      <td>8</td>\n",
       "      <td>59.8</td>\n",
       "      <td>0</td>\n",
       "      <td>0</td>\n",
       "      <td>0</td>\n",
       "    </tr>\n",
       "    <tr>\n",
       "      <th>339</th>\n",
       "      <td>10.250</td>\n",
       "      <td>18</td>\n",
       "      <td>72.5</td>\n",
       "      <td>0</td>\n",
       "      <td>0</td>\n",
       "      <td>0</td>\n",
       "    </tr>\n",
       "    <tr>\n",
       "      <th>579</th>\n",
       "      <td>8.225</td>\n",
       "      <td>7</td>\n",
       "      <td>65.7</td>\n",
       "      <td>0</td>\n",
       "      <td>1</td>\n",
       "      <td>0</td>\n",
       "    </tr>\n",
       "    <tr>\n",
       "      <th>2</th>\n",
       "      <td>9.550</td>\n",
       "      <td>16</td>\n",
       "      <td>69.7</td>\n",
       "      <td>0</td>\n",
       "      <td>0</td>\n",
       "      <td>1</td>\n",
       "    </tr>\n",
       "    <tr>\n",
       "      <th>246</th>\n",
       "      <td>8.000</td>\n",
       "      <td>9</td>\n",
       "      <td>66.4</td>\n",
       "      <td>0</td>\n",
       "      <td>1</td>\n",
       "      <td>0</td>\n",
       "    </tr>\n",
       "    <tr>\n",
       "      <th>...</th>\n",
       "      <td>...</td>\n",
       "      <td>...</td>\n",
       "      <td>...</td>\n",
       "      <td>...</td>\n",
       "      <td>...</td>\n",
       "      <td>...</td>\n",
       "    </tr>\n",
       "    <tr>\n",
       "      <th>87</th>\n",
       "      <td>7.750</td>\n",
       "      <td>11</td>\n",
       "      <td>63.5</td>\n",
       "      <td>0</td>\n",
       "      <td>0</td>\n",
       "      <td>0</td>\n",
       "    </tr>\n",
       "    <tr>\n",
       "      <th>658</th>\n",
       "      <td>6.500</td>\n",
       "      <td>14</td>\n",
       "      <td>61.7</td>\n",
       "      <td>1</td>\n",
       "      <td>0</td>\n",
       "      <td>0</td>\n",
       "    </tr>\n",
       "    <tr>\n",
       "      <th>52</th>\n",
       "      <td>7.400</td>\n",
       "      <td>11</td>\n",
       "      <td>65.3</td>\n",
       "      <td>0</td>\n",
       "      <td>1</td>\n",
       "      <td>0</td>\n",
       "    </tr>\n",
       "    <tr>\n",
       "      <th>238</th>\n",
       "      <td>9.475</td>\n",
       "      <td>17</td>\n",
       "      <td>64.8</td>\n",
       "      <td>1</td>\n",
       "      <td>0</td>\n",
       "      <td>0</td>\n",
       "    </tr>\n",
       "    <tr>\n",
       "      <th>707</th>\n",
       "      <td>5.275</td>\n",
       "      <td>12</td>\n",
       "      <td>58.5</td>\n",
       "      <td>0</td>\n",
       "      <td>0</td>\n",
       "      <td>1</td>\n",
       "    </tr>\n",
       "  </tbody>\n",
       "</table>\n",
       "<p>580 rows × 6 columns</p>\n",
       "</div>"
      ],
      "text/plain": [
       "     LungCap  Age  Height  Smoke  Gender  Caesarean\n",
       "242    6.575    8    59.8      0       0          0\n",
       "339   10.250   18    72.5      0       0          0\n",
       "579    8.225    7    65.7      0       1          0\n",
       "2      9.550   16    69.7      0       0          1\n",
       "246    8.000    9    66.4      0       1          0\n",
       "..       ...  ...     ...    ...     ...        ...\n",
       "87     7.750   11    63.5      0       0          0\n",
       "658    6.500   14    61.7      1       0          0\n",
       "52     7.400   11    65.3      0       1          0\n",
       "238    9.475   17    64.8      1       0          0\n",
       "707    5.275   12    58.5      0       0          1\n",
       "\n",
       "[580 rows x 6 columns]"
      ]
     },
     "execution_count": 17,
     "metadata": {},
     "output_type": "execute_result"
    }
   ],
   "source": [
    "lcn_train"
   ]
  },
  {
   "cell_type": "code",
   "execution_count": 18,
   "id": "0c89c3c1-3a95-412f-a53c-78d14e186580",
   "metadata": {},
   "outputs": [
    {
     "data": {
      "text/html": [
       "<div>\n",
       "<style scoped>\n",
       "    .dataframe tbody tr th:only-of-type {\n",
       "        vertical-align: middle;\n",
       "    }\n",
       "\n",
       "    .dataframe tbody tr th {\n",
       "        vertical-align: top;\n",
       "    }\n",
       "\n",
       "    .dataframe thead th {\n",
       "        text-align: right;\n",
       "    }\n",
       "</style>\n",
       "<table border=\"1\" class=\"dataframe\">\n",
       "  <thead>\n",
       "    <tr style=\"text-align: right;\">\n",
       "      <th></th>\n",
       "      <th>LungCap</th>\n",
       "      <th>Age</th>\n",
       "      <th>Height</th>\n",
       "      <th>Smoke</th>\n",
       "      <th>Gender</th>\n",
       "      <th>Caesarean</th>\n",
       "    </tr>\n",
       "  </thead>\n",
       "  <tbody>\n",
       "    <tr>\n",
       "      <th>446</th>\n",
       "      <td>6.300</td>\n",
       "      <td>11</td>\n",
       "      <td>59.0</td>\n",
       "      <td>0</td>\n",
       "      <td>0</td>\n",
       "      <td>0</td>\n",
       "    </tr>\n",
       "    <tr>\n",
       "      <th>451</th>\n",
       "      <td>4.425</td>\n",
       "      <td>9</td>\n",
       "      <td>57.1</td>\n",
       "      <td>0</td>\n",
       "      <td>1</td>\n",
       "      <td>1</td>\n",
       "    </tr>\n",
       "    <tr>\n",
       "      <th>254</th>\n",
       "      <td>5.300</td>\n",
       "      <td>7</td>\n",
       "      <td>57.3</td>\n",
       "      <td>0</td>\n",
       "      <td>1</td>\n",
       "      <td>1</td>\n",
       "    </tr>\n",
       "    <tr>\n",
       "      <th>405</th>\n",
       "      <td>8.775</td>\n",
       "      <td>13</td>\n",
       "      <td>68.1</td>\n",
       "      <td>0</td>\n",
       "      <td>0</td>\n",
       "      <td>0</td>\n",
       "    </tr>\n",
       "    <tr>\n",
       "      <th>171</th>\n",
       "      <td>4.325</td>\n",
       "      <td>6</td>\n",
       "      <td>56.6</td>\n",
       "      <td>0</td>\n",
       "      <td>1</td>\n",
       "      <td>0</td>\n",
       "    </tr>\n",
       "    <tr>\n",
       "      <th>...</th>\n",
       "      <td>...</td>\n",
       "      <td>...</td>\n",
       "      <td>...</td>\n",
       "      <td>...</td>\n",
       "      <td>...</td>\n",
       "      <td>...</td>\n",
       "    </tr>\n",
       "    <tr>\n",
       "      <th>315</th>\n",
       "      <td>7.300</td>\n",
       "      <td>12</td>\n",
       "      <td>67.5</td>\n",
       "      <td>0</td>\n",
       "      <td>1</td>\n",
       "      <td>0</td>\n",
       "    </tr>\n",
       "    <tr>\n",
       "      <th>292</th>\n",
       "      <td>5.475</td>\n",
       "      <td>3</td>\n",
       "      <td>52.9</td>\n",
       "      <td>0</td>\n",
       "      <td>1</td>\n",
       "      <td>0</td>\n",
       "    </tr>\n",
       "    <tr>\n",
       "      <th>636</th>\n",
       "      <td>9.050</td>\n",
       "      <td>15</td>\n",
       "      <td>65.3</td>\n",
       "      <td>0</td>\n",
       "      <td>1</td>\n",
       "      <td>1</td>\n",
       "    </tr>\n",
       "    <tr>\n",
       "      <th>5</th>\n",
       "      <td>6.225</td>\n",
       "      <td>11</td>\n",
       "      <td>58.7</td>\n",
       "      <td>0</td>\n",
       "      <td>0</td>\n",
       "      <td>0</td>\n",
       "    </tr>\n",
       "    <tr>\n",
       "      <th>653</th>\n",
       "      <td>7.800</td>\n",
       "      <td>13</td>\n",
       "      <td>65.4</td>\n",
       "      <td>0</td>\n",
       "      <td>0</td>\n",
       "      <td>0</td>\n",
       "    </tr>\n",
       "  </tbody>\n",
       "</table>\n",
       "<p>145 rows × 6 columns</p>\n",
       "</div>"
      ],
      "text/plain": [
       "     LungCap  Age  Height  Smoke  Gender  Caesarean\n",
       "446    6.300   11    59.0      0       0          0\n",
       "451    4.425    9    57.1      0       1          1\n",
       "254    5.300    7    57.3      0       1          1\n",
       "405    8.775   13    68.1      0       0          0\n",
       "171    4.325    6    56.6      0       1          0\n",
       "..       ...  ...     ...    ...     ...        ...\n",
       "315    7.300   12    67.5      0       1          0\n",
       "292    5.475    3    52.9      0       1          0\n",
       "636    9.050   15    65.3      0       1          1\n",
       "5      6.225   11    58.7      0       0          0\n",
       "653    7.800   13    65.4      0       0          0\n",
       "\n",
       "[145 rows x 6 columns]"
      ]
     },
     "execution_count": 18,
     "metadata": {},
     "output_type": "execute_result"
    }
   ],
   "source": [
    "lcn_test"
   ]
  },
  {
   "cell_type": "code",
   "execution_count": 19,
   "id": "cd74858f-6089-4c6a-9375-0c57ad75852a",
   "metadata": {},
   "outputs": [],
   "source": [
    "lcn_train_x = lcn_train.iloc[:,1::]\n",
    "lcn_test_x = lcn_test.iloc[:,1::]"
   ]
  },
  {
   "cell_type": "code",
   "execution_count": 20,
   "id": "dea19441-e149-475e-9142-523a64bec263",
   "metadata": {},
   "outputs": [
    {
     "data": {
      "text/html": [
       "<div>\n",
       "<style scoped>\n",
       "    .dataframe tbody tr th:only-of-type {\n",
       "        vertical-align: middle;\n",
       "    }\n",
       "\n",
       "    .dataframe tbody tr th {\n",
       "        vertical-align: top;\n",
       "    }\n",
       "\n",
       "    .dataframe thead th {\n",
       "        text-align: right;\n",
       "    }\n",
       "</style>\n",
       "<table border=\"1\" class=\"dataframe\">\n",
       "  <thead>\n",
       "    <tr style=\"text-align: right;\">\n",
       "      <th></th>\n",
       "      <th>Age</th>\n",
       "      <th>Height</th>\n",
       "      <th>Smoke</th>\n",
       "      <th>Gender</th>\n",
       "      <th>Caesarean</th>\n",
       "    </tr>\n",
       "  </thead>\n",
       "  <tbody>\n",
       "    <tr>\n",
       "      <th>242</th>\n",
       "      <td>8</td>\n",
       "      <td>59.8</td>\n",
       "      <td>0</td>\n",
       "      <td>0</td>\n",
       "      <td>0</td>\n",
       "    </tr>\n",
       "    <tr>\n",
       "      <th>339</th>\n",
       "      <td>18</td>\n",
       "      <td>72.5</td>\n",
       "      <td>0</td>\n",
       "      <td>0</td>\n",
       "      <td>0</td>\n",
       "    </tr>\n",
       "    <tr>\n",
       "      <th>579</th>\n",
       "      <td>7</td>\n",
       "      <td>65.7</td>\n",
       "      <td>0</td>\n",
       "      <td>1</td>\n",
       "      <td>0</td>\n",
       "    </tr>\n",
       "    <tr>\n",
       "      <th>2</th>\n",
       "      <td>16</td>\n",
       "      <td>69.7</td>\n",
       "      <td>0</td>\n",
       "      <td>0</td>\n",
       "      <td>1</td>\n",
       "    </tr>\n",
       "    <tr>\n",
       "      <th>246</th>\n",
       "      <td>9</td>\n",
       "      <td>66.4</td>\n",
       "      <td>0</td>\n",
       "      <td>1</td>\n",
       "      <td>0</td>\n",
       "    </tr>\n",
       "    <tr>\n",
       "      <th>...</th>\n",
       "      <td>...</td>\n",
       "      <td>...</td>\n",
       "      <td>...</td>\n",
       "      <td>...</td>\n",
       "      <td>...</td>\n",
       "    </tr>\n",
       "    <tr>\n",
       "      <th>87</th>\n",
       "      <td>11</td>\n",
       "      <td>63.5</td>\n",
       "      <td>0</td>\n",
       "      <td>0</td>\n",
       "      <td>0</td>\n",
       "    </tr>\n",
       "    <tr>\n",
       "      <th>658</th>\n",
       "      <td>14</td>\n",
       "      <td>61.7</td>\n",
       "      <td>1</td>\n",
       "      <td>0</td>\n",
       "      <td>0</td>\n",
       "    </tr>\n",
       "    <tr>\n",
       "      <th>52</th>\n",
       "      <td>11</td>\n",
       "      <td>65.3</td>\n",
       "      <td>0</td>\n",
       "      <td>1</td>\n",
       "      <td>0</td>\n",
       "    </tr>\n",
       "    <tr>\n",
       "      <th>238</th>\n",
       "      <td>17</td>\n",
       "      <td>64.8</td>\n",
       "      <td>1</td>\n",
       "      <td>0</td>\n",
       "      <td>0</td>\n",
       "    </tr>\n",
       "    <tr>\n",
       "      <th>707</th>\n",
       "      <td>12</td>\n",
       "      <td>58.5</td>\n",
       "      <td>0</td>\n",
       "      <td>0</td>\n",
       "      <td>1</td>\n",
       "    </tr>\n",
       "  </tbody>\n",
       "</table>\n",
       "<p>580 rows × 5 columns</p>\n",
       "</div>"
      ],
      "text/plain": [
       "     Age  Height  Smoke  Gender  Caesarean\n",
       "242    8    59.8      0       0          0\n",
       "339   18    72.5      0       0          0\n",
       "579    7    65.7      0       1          0\n",
       "2     16    69.7      0       0          1\n",
       "246    9    66.4      0       1          0\n",
       "..   ...     ...    ...     ...        ...\n",
       "87    11    63.5      0       0          0\n",
       "658   14    61.7      1       0          0\n",
       "52    11    65.3      0       1          0\n",
       "238   17    64.8      1       0          0\n",
       "707   12    58.5      0       0          1\n",
       "\n",
       "[580 rows x 5 columns]"
      ]
     },
     "execution_count": 20,
     "metadata": {},
     "output_type": "execute_result"
    }
   ],
   "source": [
    "lcn_train_x"
   ]
  },
  {
   "cell_type": "code",
   "execution_count": 21,
   "id": "96c82a5a-6a2f-4297-8ec4-8d1d02869c25",
   "metadata": {},
   "outputs": [
    {
     "data": {
      "text/html": [
       "<div>\n",
       "<style scoped>\n",
       "    .dataframe tbody tr th:only-of-type {\n",
       "        vertical-align: middle;\n",
       "    }\n",
       "\n",
       "    .dataframe tbody tr th {\n",
       "        vertical-align: top;\n",
       "    }\n",
       "\n",
       "    .dataframe thead th {\n",
       "        text-align: right;\n",
       "    }\n",
       "</style>\n",
       "<table border=\"1\" class=\"dataframe\">\n",
       "  <thead>\n",
       "    <tr style=\"text-align: right;\">\n",
       "      <th></th>\n",
       "      <th>Age</th>\n",
       "      <th>Height</th>\n",
       "      <th>Smoke</th>\n",
       "      <th>Gender</th>\n",
       "      <th>Caesarean</th>\n",
       "    </tr>\n",
       "  </thead>\n",
       "  <tbody>\n",
       "    <tr>\n",
       "      <th>446</th>\n",
       "      <td>11</td>\n",
       "      <td>59.0</td>\n",
       "      <td>0</td>\n",
       "      <td>0</td>\n",
       "      <td>0</td>\n",
       "    </tr>\n",
       "    <tr>\n",
       "      <th>451</th>\n",
       "      <td>9</td>\n",
       "      <td>57.1</td>\n",
       "      <td>0</td>\n",
       "      <td>1</td>\n",
       "      <td>1</td>\n",
       "    </tr>\n",
       "    <tr>\n",
       "      <th>254</th>\n",
       "      <td>7</td>\n",
       "      <td>57.3</td>\n",
       "      <td>0</td>\n",
       "      <td>1</td>\n",
       "      <td>1</td>\n",
       "    </tr>\n",
       "    <tr>\n",
       "      <th>405</th>\n",
       "      <td>13</td>\n",
       "      <td>68.1</td>\n",
       "      <td>0</td>\n",
       "      <td>0</td>\n",
       "      <td>0</td>\n",
       "    </tr>\n",
       "    <tr>\n",
       "      <th>171</th>\n",
       "      <td>6</td>\n",
       "      <td>56.6</td>\n",
       "      <td>0</td>\n",
       "      <td>1</td>\n",
       "      <td>0</td>\n",
       "    </tr>\n",
       "    <tr>\n",
       "      <th>...</th>\n",
       "      <td>...</td>\n",
       "      <td>...</td>\n",
       "      <td>...</td>\n",
       "      <td>...</td>\n",
       "      <td>...</td>\n",
       "    </tr>\n",
       "    <tr>\n",
       "      <th>315</th>\n",
       "      <td>12</td>\n",
       "      <td>67.5</td>\n",
       "      <td>0</td>\n",
       "      <td>1</td>\n",
       "      <td>0</td>\n",
       "    </tr>\n",
       "    <tr>\n",
       "      <th>292</th>\n",
       "      <td>3</td>\n",
       "      <td>52.9</td>\n",
       "      <td>0</td>\n",
       "      <td>1</td>\n",
       "      <td>0</td>\n",
       "    </tr>\n",
       "    <tr>\n",
       "      <th>636</th>\n",
       "      <td>15</td>\n",
       "      <td>65.3</td>\n",
       "      <td>0</td>\n",
       "      <td>1</td>\n",
       "      <td>1</td>\n",
       "    </tr>\n",
       "    <tr>\n",
       "      <th>5</th>\n",
       "      <td>11</td>\n",
       "      <td>58.7</td>\n",
       "      <td>0</td>\n",
       "      <td>0</td>\n",
       "      <td>0</td>\n",
       "    </tr>\n",
       "    <tr>\n",
       "      <th>653</th>\n",
       "      <td>13</td>\n",
       "      <td>65.4</td>\n",
       "      <td>0</td>\n",
       "      <td>0</td>\n",
       "      <td>0</td>\n",
       "    </tr>\n",
       "  </tbody>\n",
       "</table>\n",
       "<p>145 rows × 5 columns</p>\n",
       "</div>"
      ],
      "text/plain": [
       "     Age  Height  Smoke  Gender  Caesarean\n",
       "446   11    59.0      0       0          0\n",
       "451    9    57.1      0       1          1\n",
       "254    7    57.3      0       1          1\n",
       "405   13    68.1      0       0          0\n",
       "171    6    56.6      0       1          0\n",
       "..   ...     ...    ...     ...        ...\n",
       "315   12    67.5      0       1          0\n",
       "292    3    52.9      0       1          0\n",
       "636   15    65.3      0       1          1\n",
       "5     11    58.7      0       0          0\n",
       "653   13    65.4      0       0          0\n",
       "\n",
       "[145 rows x 5 columns]"
      ]
     },
     "execution_count": 21,
     "metadata": {},
     "output_type": "execute_result"
    }
   ],
   "source": [
    "lcn_test_x"
   ]
  },
  {
   "cell_type": "code",
   "execution_count": 22,
   "id": "8ba0ae26-3b1f-4f82-93ff-97455e51b76d",
   "metadata": {},
   "outputs": [],
   "source": [
    "lcn_train_y = lcn_train.iloc[:,0]\n",
    "lcn_test_y = lcn_test.iloc[:,0]"
   ]
  },
  {
   "cell_type": "code",
   "execution_count": 23,
   "id": "0b521eff-00f0-44ff-98ca-79138575f014",
   "metadata": {},
   "outputs": [
    {
     "data": {
      "text/plain": [
       "242     6.575\n",
       "339    10.250\n",
       "579     8.225\n",
       "2       9.550\n",
       "246     8.000\n",
       "        ...  \n",
       "87      7.750\n",
       "658     6.500\n",
       "52      7.400\n",
       "238     9.475\n",
       "707     5.275\n",
       "Name: LungCap, Length: 580, dtype: float64"
      ]
     },
     "execution_count": 23,
     "metadata": {},
     "output_type": "execute_result"
    }
   ],
   "source": [
    "lcn_train_y"
   ]
  },
  {
   "cell_type": "code",
   "execution_count": 24,
   "id": "256fb390-47a8-44dc-8dbf-992bc74c0e7a",
   "metadata": {},
   "outputs": [
    {
     "data": {
      "text/plain": [
       "446    6.300\n",
       "451    4.425\n",
       "254    5.300\n",
       "405    8.775\n",
       "171    4.325\n",
       "       ...  \n",
       "315    7.300\n",
       "292    5.475\n",
       "636    9.050\n",
       "5      6.225\n",
       "653    7.800\n",
       "Name: LungCap, Length: 145, dtype: float64"
      ]
     },
     "execution_count": 24,
     "metadata": {},
     "output_type": "execute_result"
    }
   ],
   "source": [
    "lcn_test_y"
   ]
  },
  {
   "cell_type": "code",
   "execution_count": 25,
   "id": "a858c3cb-3304-4a71-b0f5-87508e7d60ff",
   "metadata": {},
   "outputs": [],
   "source": [
    "# Model Building"
   ]
  },
  {
   "cell_type": "code",
   "execution_count": 26,
   "id": "72c310fb-87e9-4683-ab97-c97f5c61d4ff",
   "metadata": {},
   "outputs": [],
   "source": [
    "# import the necessary function from sklearn\n",
    "# create an object of that function \n",
    "# Run the fit function & model is created\n",
    "# Run the prediction by using predict function"
   ]
  },
  {
   "cell_type": "code",
   "execution_count": 27,
   "id": "b4c19cc2-04a3-4d18-9dbc-5dbc4368f2b6",
   "metadata": {},
   "outputs": [],
   "source": [
    "from sklearn.linear_model import LinearRegression"
   ]
  },
  {
   "cell_type": "code",
   "execution_count": 28,
   "id": "3ccbaafe-8faa-4d18-a502-7abe3eeb272e",
   "metadata": {},
   "outputs": [],
   "source": [
    "linereg = LinearRegression()"
   ]
  },
  {
   "cell_type": "code",
   "execution_count": 29,
   "id": "00a0073d-3257-434c-8d08-3c357f8792e8",
   "metadata": {},
   "outputs": [
    {
     "data": {
      "text/html": [
       "<style>#sk-container-id-1 {color: black;background-color: white;}#sk-container-id-1 pre{padding: 0;}#sk-container-id-1 div.sk-toggleable {background-color: white;}#sk-container-id-1 label.sk-toggleable__label {cursor: pointer;display: block;width: 100%;margin-bottom: 0;padding: 0.3em;box-sizing: border-box;text-align: center;}#sk-container-id-1 label.sk-toggleable__label-arrow:before {content: \"▸\";float: left;margin-right: 0.25em;color: #696969;}#sk-container-id-1 label.sk-toggleable__label-arrow:hover:before {color: black;}#sk-container-id-1 div.sk-estimator:hover label.sk-toggleable__label-arrow:before {color: black;}#sk-container-id-1 div.sk-toggleable__content {max-height: 0;max-width: 0;overflow: hidden;text-align: left;background-color: #f0f8ff;}#sk-container-id-1 div.sk-toggleable__content pre {margin: 0.2em;color: black;border-radius: 0.25em;background-color: #f0f8ff;}#sk-container-id-1 input.sk-toggleable__control:checked~div.sk-toggleable__content {max-height: 200px;max-width: 100%;overflow: auto;}#sk-container-id-1 input.sk-toggleable__control:checked~label.sk-toggleable__label-arrow:before {content: \"▾\";}#sk-container-id-1 div.sk-estimator input.sk-toggleable__control:checked~label.sk-toggleable__label {background-color: #d4ebff;}#sk-container-id-1 div.sk-label input.sk-toggleable__control:checked~label.sk-toggleable__label {background-color: #d4ebff;}#sk-container-id-1 input.sk-hidden--visually {border: 0;clip: rect(1px 1px 1px 1px);clip: rect(1px, 1px, 1px, 1px);height: 1px;margin: -1px;overflow: hidden;padding: 0;position: absolute;width: 1px;}#sk-container-id-1 div.sk-estimator {font-family: monospace;background-color: #f0f8ff;border: 1px dotted black;border-radius: 0.25em;box-sizing: border-box;margin-bottom: 0.5em;}#sk-container-id-1 div.sk-estimator:hover {background-color: #d4ebff;}#sk-container-id-1 div.sk-parallel-item::after {content: \"\";width: 100%;border-bottom: 1px solid gray;flex-grow: 1;}#sk-container-id-1 div.sk-label:hover label.sk-toggleable__label {background-color: #d4ebff;}#sk-container-id-1 div.sk-serial::before {content: \"\";position: absolute;border-left: 1px solid gray;box-sizing: border-box;top: 0;bottom: 0;left: 50%;z-index: 0;}#sk-container-id-1 div.sk-serial {display: flex;flex-direction: column;align-items: center;background-color: white;padding-right: 0.2em;padding-left: 0.2em;position: relative;}#sk-container-id-1 div.sk-item {position: relative;z-index: 1;}#sk-container-id-1 div.sk-parallel {display: flex;align-items: stretch;justify-content: center;background-color: white;position: relative;}#sk-container-id-1 div.sk-item::before, #sk-container-id-1 div.sk-parallel-item::before {content: \"\";position: absolute;border-left: 1px solid gray;box-sizing: border-box;top: 0;bottom: 0;left: 50%;z-index: -1;}#sk-container-id-1 div.sk-parallel-item {display: flex;flex-direction: column;z-index: 1;position: relative;background-color: white;}#sk-container-id-1 div.sk-parallel-item:first-child::after {align-self: flex-end;width: 50%;}#sk-container-id-1 div.sk-parallel-item:last-child::after {align-self: flex-start;width: 50%;}#sk-container-id-1 div.sk-parallel-item:only-child::after {width: 0;}#sk-container-id-1 div.sk-dashed-wrapped {border: 1px dashed gray;margin: 0 0.4em 0.5em 0.4em;box-sizing: border-box;padding-bottom: 0.4em;background-color: white;}#sk-container-id-1 div.sk-label label {font-family: monospace;font-weight: bold;display: inline-block;line-height: 1.2em;}#sk-container-id-1 div.sk-label-container {text-align: center;}#sk-container-id-1 div.sk-container {/* jupyter's `normalize.less` sets `[hidden] { display: none; }` but bootstrap.min.css set `[hidden] { display: none !important; }` so we also need the `!important` here to be able to override the default hidden behavior on the sphinx rendered scikit-learn.org. See: https://github.com/scikit-learn/scikit-learn/issues/21755 */display: inline-block !important;position: relative;}#sk-container-id-1 div.sk-text-repr-fallback {display: none;}</style><div id=\"sk-container-id-1\" class=\"sk-top-container\"><div class=\"sk-text-repr-fallback\"><pre>LinearRegression()</pre><b>In a Jupyter environment, please rerun this cell to show the HTML representation or trust the notebook. <br />On GitHub, the HTML representation is unable to render, please try loading this page with nbviewer.org.</b></div><div class=\"sk-container\" hidden><div class=\"sk-item\"><div class=\"sk-estimator sk-toggleable\"><input class=\"sk-toggleable__control sk-hidden--visually\" id=\"sk-estimator-id-1\" type=\"checkbox\" checked><label for=\"sk-estimator-id-1\" class=\"sk-toggleable__label sk-toggleable__label-arrow\">LinearRegression</label><div class=\"sk-toggleable__content\"><pre>LinearRegression()</pre></div></div></div></div></div>"
      ],
      "text/plain": [
       "LinearRegression()"
      ]
     },
     "execution_count": 29,
     "metadata": {},
     "output_type": "execute_result"
    }
   ],
   "source": [
    "linereg.fit(lcn_train_x, lcn_train_y)"
   ]
  },
  {
   "cell_type": "code",
   "execution_count": 30,
   "id": "2c148ea9-8f73-4526-a403-88138189b2e2",
   "metadata": {},
   "outputs": [],
   "source": [
    "# Evaluating"
   ]
  },
  {
   "cell_type": "code",
   "execution_count": 31,
   "id": "9e0db520-cb54-4a00-9d78-d434dddc7b67",
   "metadata": {},
   "outputs": [
    {
     "data": {
      "text/plain": [
       "0.851024301402314"
      ]
     },
     "execution_count": 31,
     "metadata": {},
     "output_type": "execute_result"
    }
   ],
   "source": [
    "Rsq = linereg.score(lcn_train_x, lcn_train_y)\n",
    "Rsq"
   ]
  },
  {
   "cell_type": "code",
   "execution_count": 32,
   "id": "aedbff2e-0890-45be-9e6f-501583c24638",
   "metadata": {},
   "outputs": [],
   "source": [
    "N = lcn_train_x.shape[0]\n",
    "K = lcn_train_x.shape[1]"
   ]
  },
  {
   "cell_type": "code",
   "execution_count": 33,
   "id": "12fdbd54-6382-4fb2-a084-8d381e4b6a5b",
   "metadata": {},
   "outputs": [
    {
     "data": {
      "text/plain": [
       "0.8497266036793376"
      ]
     },
     "execution_count": 33,
     "metadata": {},
     "output_type": "execute_result"
    }
   ],
   "source": [
    "Adj_Rsq = 1 - (1-Rsq)*(N-1)/(N-K-1)\n",
    "Adj_Rsq"
   ]
  },
  {
   "cell_type": "code",
   "execution_count": 34,
   "id": "86c9969b-b015-4f67-a082-a38fce4c52d5",
   "metadata": {},
   "outputs": [
    {
     "data": {
      "text/plain": [
       "Index(['LungCap', 'Age', 'Height', 'Smoke', 'Gender', 'Caesarean'], dtype='object')"
      ]
     },
     "execution_count": 34,
     "metadata": {},
     "output_type": "execute_result"
    }
   ],
   "source": [
    "lcn_train.columns"
   ]
  },
  {
   "cell_type": "code",
   "execution_count": 35,
   "id": "6f135c64-8800-4c94-bfe5-4e144ff54e87",
   "metadata": {},
   "outputs": [
    {
     "data": {
      "text/plain": [
       "array([ 0.15998598,  0.26086639, -0.60240589,  0.38347603, -0.27898674])"
      ]
     },
     "execution_count": 35,
     "metadata": {},
     "output_type": "execute_result"
    }
   ],
   "source": [
    "linereg.coef_"
   ]
  },
  {
   "cell_type": "code",
   "execution_count": 36,
   "id": "597d33d3-b92e-4969-a91c-2c1b3c883378",
   "metadata": {},
   "outputs": [
    {
     "data": {
      "text/plain": [
       "-11.07481025414339"
      ]
     },
     "execution_count": 36,
     "metadata": {},
     "output_type": "execute_result"
    }
   ],
   "source": [
    "linereg.intercept_"
   ]
  },
  {
   "cell_type": "code",
   "execution_count": 37,
   "id": "0c4b33de-7576-42f1-a6d7-dd44cfd7f87f",
   "metadata": {},
   "outputs": [],
   "source": [
    "pred_train = linereg.predict(lcn_train_x)\n",
    "pred_test = linereg.predict(lcn_test_x)"
   ]
  },
  {
   "cell_type": "code",
   "execution_count": 38,
   "id": "263c2cbf-3afe-4196-8b00-85fa5759e5f6",
   "metadata": {},
   "outputs": [
    {
     "data": {
      "text/plain": [
       "array([ 5.80488755, 10.71775045,  7.56748928,  9.38836588,  8.07006771,\n",
       "        5.01882224,  8.36048688, 10.6031482 , 11.99960463,  4.94402847,\n",
       "        7.01888025,  7.8613746 ,  7.40324754,  6.62500578,  5.80835369,\n",
       "        9.76144346,  6.9448761 ,  7.35004026,  8.51700671,  9.30213967,\n",
       "        4.57188323,  6.67961121,  8.00670638,  7.6074405 , 13.52728388,\n",
       "        8.16669235,  8.88915195, 10.86490585,  8.08845139, 10.33881566,\n",
       "        6.62411452,  9.81363569,  8.35020904, 10.14143121,  5.83444033,\n",
       "        3.40145064,  5.71187178,  9.04127328,  5.27968863,  7.98394315,\n",
       "       10.18126183,  8.09615435,  5.85706082,  8.22129778, 10.08127269,\n",
       "        7.01888025, 12.30467801,  7.94231104, 10.17868695,  6.88498091,\n",
       "        9.69013479, 10.85604829,  7.39874739,  7.11961792,  8.92217088,\n",
       "        8.09175585, 12.04381162,  7.9691873 , 10.12215626,  7.30915669,\n",
       "        9.52652098,  7.45197362, 11.42555585,  9.91346315,  9.23867669,\n",
       "        8.63175171,  4.68316208,  5.84933891, 11.32560779, 11.65251204,\n",
       "        9.94301594,  8.85520066, 10.03949785,  3.4988649 ,  3.63276424,\n",
       "       11.01256813,  9.09358929,  7.12655022,  7.00408331,  9.78659775,\n",
       "       10.81530745,  9.13086399,  3.95030405, 10.21081462,  8.1848127 ,\n",
       "        8.03625916, 11.45960878, 10.50212505,  1.66586789,  2.36145123,\n",
       "       11.24294938,  7.94216831,  9.10913476,  5.50317867,  6.82240919,\n",
       "        7.61978316,  5.73795842,  9.65711586,  7.01873751,  7.01527137,\n",
       "        9.18409022,  3.47971055,  6.44483146,  5.46576124,  6.26674409,\n",
       "        6.51180168,  3.84066773, 11.32560779,  9.46652415,  4.26577586,\n",
       "        8.7734746 ,  7.54740258,  4.54926274,  5.61561212,  7.14223842,\n",
       "        5.85732416,  6.52309138,  4.53460854, 11.01706827,  6.46398581,\n",
       "        9.59602499, 11.53786869,  8.44567909, 10.7099269 ,  7.8569761 ,\n",
       "        2.45900823, 10.45688407,  9.18062407,  6.75543898,  4.40060755,\n",
       "       11.14300132,  3.28234823,  2.48148599,  7.05615494,  7.99527394,\n",
       "        4.37358856,  8.82564788,  7.64495958,  7.28746855,  8.24148612,\n",
       "        5.86492547, 11.29165651,  7.87627318, 10.91168772,  6.46838431,\n",
       "        7.74490764,  5.99096016, 10.09167112,  5.5588181 ,  7.82395717,\n",
       "        9.27698538,  6.92572175,  7.06308724,  5.5520064 , 10.05865219,\n",
       "       10.86733799,  6.57179851,  7.75714864,  9.48233294,  8.58843598,\n",
       "        9.93954979,  7.60062881,  5.05970581,  9.65606291,  7.97024025,\n",
       "       10.75605915,  5.65530001,  4.7241473 ,  6.13298748,  8.64650755,\n",
       "        9.0004308 ,  6.81351055,  5.34226034,  1.22239504,  9.58126914,\n",
       "       11.6760238 ,  9.04127328,  6.55367816,  6.57526466, 11.40733385,\n",
       "        7.65521528,  9.2317444 ,  6.88830432,  8.01710481,  8.03611643,\n",
       "        8.45271303,  6.02051295, 10.30036423,  4.54579659,  7.48483087,\n",
       "        2.71973188,  4.0649474 ,  6.40954207,  9.47088156,  9.3395571 ,\n",
       "        7.06758738,  4.97358125, 11.01256813,  6.44150805, 12.04381162,\n",
       "        3.375364  , 12.36467484,  7.78658083,  5.10312318,  8.88925359,\n",
       "        3.33887892,  5.49184788,  3.53628233,  5.71454831,  7.18668978,\n",
       "        7.33964182,  8.96741186,  6.53788831, 10.55776448,  3.57365867,\n",
       "        9.00478821, 11.56395533, 10.65775362, 10.56123062,  3.35367586,\n",
       "        7.65278313, 10.47964729, 10.75863403,  8.01108274,  8.33440024,\n",
       "        7.17872349,  9.55607376,  6.06046417,  9.70037154,  7.56655693,\n",
       "        7.92058181,  7.63352714,  8.26653876,  9.85435758,  9.98491137,\n",
       "       10.18561924,  8.6475605 ,  9.12749949,  7.79697927,  3.5953879 ,\n",
       "        6.31786441, 11.20210689,  9.41088472,  5.19360515,  8.38760752,\n",
       "        9.79883876,  5.77880091,  8.27888142,  6.0170468 ,  9.95523799,\n",
       "       12.43164506,  7.93087861, 13.2664175 , 10.00074231,  5.31270756,\n",
       "       10.24231161, 12.83437707,  4.30665944,  7.22499848,  5.75964656,\n",
       "        3.30507037,  6.19182972,  9.75601097,  9.11606705,  5.05530732,\n",
       "        4.45278083,  6.18489743,  5.05289412, 12.98293062, 10.06558449,\n",
       "        4.06841354,  8.86653146,  6.74414928,  6.94062033, 10.24486755,\n",
       "        5.18227436,  8.53869485, 10.88570272,  4.30319329,  9.56300606,\n",
       "        7.44745452,  7.2683142 ,  7.67451236, 10.87094688, 10.40574479,\n",
       "        6.32572906,  6.3641394 ,  8.97087801,  6.48224889,  3.67364781,\n",
       "        9.1023452 ,  7.48483087,  7.75712969,  7.32048748, 10.32991702,\n",
       "        8.49785237,  8.22233178, 10.02127585,  5.21979344,  7.69020056,\n",
       "       11.48664672, 12.14211715,  9.25101934, 11.52311284, 12.33076465,\n",
       "        6.91197776, 11.00034607,  5.86399312, 10.1325547 ,  5.49878017,\n",
       "        3.81883686,  6.9032029 , 11.2064643 ,  7.65961378,  6.50486938,\n",
       "        3.32758922, 10.92297742,  5.76751121,  5.13460123,  9.88737651,\n",
       "       10.43876372,  8.91187409,  9.5821604 ,  2.81382273,  9.03979244,\n",
       "        7.08224158,  7.29995393,  6.49793709, 11.61602696,  7.70832091,\n",
       "        6.22920606, 10.97079329,  2.8572401 ,  9.4586595 ,  7.81173511,\n",
       "        8.42316024,  9.48578014,  9.92128671,  8.52843915,  2.09018641,\n",
       "        7.23436292,  9.69704813, 10.06998298,  4.22156887,  3.22231031,\n",
       "        9.72660092, 12.27615922,  8.13263942,  7.0482903 , 10.08940066,\n",
       "        6.21445021,  3.0023275 ,  5.9867044 ,  8.11001893,  9.77715062,\n",
       "        4.88056549,  6.61268208,  6.80657826,  7.77525004,  7.15174559,\n",
       "       10.73254739,  5.70504114,  7.11189601,  2.77293916, 12.17424481,\n",
       "       10.09722422,  9.09784506, 10.68925062,  9.02998358, 10.09953577,\n",
       "        5.02228838,  8.92332548, 11.411834  , 12.29774572,  7.10392972,\n",
       "        9.20565776,  9.73789062,  9.80818424,  6.29386472,  6.38225975,\n",
       "        7.27025841,  7.10832822,  7.8726643 ,  8.50131851,  8.11451908,\n",
       "        8.22565519,  8.08934265, 12.25353873,  7.53700414,  9.26912074,\n",
       "        5.24577843,  5.21622565,  9.28391768,  8.01017252, 10.39883145,\n",
       "        8.6656619 ,  9.78996225,  7.4952293 ,  9.59014565, 10.93430821,\n",
       "        2.25017238,  4.34506978,  7.33964182,  4.48233362,  7.8299982 ,\n",
       "        9.94648208,  9.12739784,  9.07186007,  9.84213553, 12.20136545,\n",
       "        7.8580101 ,  5.35359113, 10.86298058,  8.65447385,  9.86035752,\n",
       "        8.11348508,  4.95189311, 11.43688664,  6.78835626,  6.5674411 ,\n",
       "        9.98144523,  7.79004697,  9.72392439,  9.40302008,  3.49207534,\n",
       "       11.27690066,  9.70823619,  5.32865909,  3.93461585, 12.38293792,\n",
       "       11.56385369,  7.96132266,  8.11001893,  7.27178035, 10.12215626,\n",
       "       10.6952727 ,  3.92318341, 11.49252606, 10.68140811,  4.48233362,\n",
       "        3.64859517,  5.5701078 , 10.30476273,  6.18489743, 11.09776033,\n",
       "       12.95337783, 10.85951444,  4.78750864,  9.67187171,  6.43789917,\n",
       "        7.96132266,  4.57881553,  4.52664225,  7.31355518,  6.08401702,\n",
       "        4.68316208, 10.84141304,  6.04765254,  9.42910672,  8.43781444,\n",
       "        8.32667833,  8.14486148,  6.87354847,  8.18931285, 11.30645344,\n",
       "        6.46745195,  9.10141285,  9.08513507,  9.81604889,  7.5178498 ,\n",
       "        2.58686654,  5.84923727, 11.79091152,  4.52664225,  2.16844632,\n",
       "        6.18049893,  7.32741977,  8.05543246, 10.79947652, 10.84382624,\n",
       "        6.94834224,  9.90653086,  7.03353445,  7.85004381,  3.12929455,\n",
       "       10.57602756,  3.16667089,  6.51388862,  8.25867412,  9.65259676,\n",
       "        8.14046298, 11.10663684,  6.20311942,  8.80752753,  8.63175171,\n",
       "        6.2283148 ,  6.71702864,  8.25520797,  5.71197343,  9.54478406,\n",
       "        9.22387975, 10.75863403,  6.17356664,  5.7857332 ,  4.93273877,\n",
       "       10.80040887,  9.29778226, 10.68473152,  5.11534524,  7.45092067,\n",
       "        5.73355992,  8.14739527,  8.56917999,  9.68214955, 10.69166382,\n",
       "        9.23184604, 12.33179865, 10.27877774,  7.72307676,  2.70933344,\n",
       "        4.73533536,  8.16654962,  4.98837819,  7.65730223,  4.59796987,\n",
       "        6.09530672,  6.46838431,  8.22912133,  7.63788455, 11.55252289,\n",
       "        3.55103818,  7.2796039 ,  8.3118814 ,  6.54224572,  3.19622367,\n",
       "        5.1926728 ,  9.26036483, 11.43110894,  6.56833236,  7.95003295,\n",
       "        8.78932449,  8.03958257,  8.38564117,  5.4396746 ,  6.06139652,\n",
       "        9.10927749,  8.37088532,  7.90568323,  2.89104865,  7.86044225,\n",
       "        8.87796389,  9.21451531,  9.40995237, 10.39005659,  8.02042822,\n",
       "        7.69804307,  4.01970641,  7.02220366,  2.63018226,  8.05091336,\n",
       "        5.33107229,  7.74480599,  7.9691873 ,  6.3631054 ,  5.77790964,\n",
       "        3.32758922, 10.76313417, 11.5299024 ,  3.21191187,  5.21969179,\n",
       "        8.05784565,  8.30059169, 10.26493211,  2.99203071, 10.12136664,\n",
       "        7.25005112,  6.65804367,  8.10308664,  7.9466874 ,  5.82671842])"
      ]
     },
     "execution_count": 38,
     "metadata": {},
     "output_type": "execute_result"
    }
   ],
   "source": [
    "pred_train"
   ]
  },
  {
   "cell_type": "code",
   "execution_count": 39,
   "id": "fe183862-d08c-49f3-9756-7f3ee5c9e788",
   "metadata": {},
   "outputs": [
    {
     "data": {
      "text/plain": [
       "array([ 6.07615237,  5.36502357,  5.09722489,  8.77000846,  5.03361917,\n",
       "        6.20326216,  9.84302679, 10.2560556 ,  4.59361246,  6.30067642,\n",
       "       11.03172247,  7.55873337, 10.8334278 ,  6.38572589,  3.45362391,\n",
       "        4.36769027,  9.43950516,  9.29084997,  8.63610912,  8.02482672,\n",
       "        7.48740575,  6.25995453,  6.6865435 , 11.86917144,  5.94918533,\n",
       "        6.29360139, 10.35026705,  9.46652415,  5.86504607, 11.69775302,\n",
       "       10.33883461,  7.18762214,  9.30065883, 11.00123733, 11.30991959,\n",
       "        4.90318598, 11.16908796,  9.01518664,  4.00247733,  7.138915  ,\n",
       "        6.91532331,  8.17348191,  9.65028521,  8.09972214,  5.38314392,\n",
       "        8.25520797, 12.52133741,  6.32236456, 10.33788331,  5.80053014,\n",
       "        9.28045153,  9.77169917,  8.48998772,  8.15086142,  8.53176256,\n",
       "        8.95954722,  8.63521785,  2.26932673,  4.48926591,  6.59121619,\n",
       "        5.23459038, 11.70904273, 11.56731983, 11.03865476, 13.1359843 ,\n",
       "        8.82564788,  3.15884733,  8.83351252,  6.89616896,  8.97087801,\n",
       "        7.32484489,  5.09272474,  8.48652158,  4.05272534,  7.01873751,\n",
       "       10.024742  , 10.39431235,  7.54393644,  8.10412064, 10.12562241,\n",
       "        8.17451591,  8.71783518,  5.54055501,  7.30662289,  9.50043434,\n",
       "        3.94233776,  7.21267478,  7.62233909,  4.37105477,  4.25884357,\n",
       "        7.09264002,  7.36572846, 10.75516788, 10.97861684, 11.72730581,\n",
       "        9.95083949,  4.15449701,  4.72840307,  9.96217028,  8.47176573,\n",
       "        9.78408291,  7.07887708, 11.39253692,  3.67028331,  6.59547195,\n",
       "        7.56566566,  7.15715595, 10.32418041, 10.00994506,  4.94763735,\n",
       "       11.19969369,  4.01624026,  6.69000965, 10.34333476,  5.75618042,\n",
       "        9.1195332 ,  4.54926274, 11.84839351, 10.32645087, 12.06296597,\n",
       "       11.53776705,  8.48998772,  5.22315794, 11.47772912,  8.61365031,\n",
       "        5.60312673,  6.2396045 ,  4.91011827, 11.36298413, 10.09710362,\n",
       "        8.78040689,  7.59610971,  9.16146972,  8.91523859,  9.43350522,\n",
       "       10.94229345,  5.6779205 ,  8.04398107, 11.6466327 ,  8.46146894,\n",
       "        8.83697867,  3.58845561,  8.46404382,  5.99789246,  8.06566921])"
      ]
     },
     "execution_count": 39,
     "metadata": {},
     "output_type": "execute_result"
    }
   ],
   "source": [
    "pred_test"
   ]
  },
  {
   "cell_type": "code",
   "execution_count": 40,
   "id": "5fab6182-b407-4b2d-9670-7809c6f64dce",
   "metadata": {},
   "outputs": [],
   "source": [
    "err_train = lcn_train_y - pred_train\n",
    "err_test = lcn_test_y - pred_test"
   ]
  },
  {
   "cell_type": "code",
   "execution_count": 41,
   "id": "60e6e8ce-8bed-4627-9baa-b2fd549a28d4",
   "metadata": {},
   "outputs": [
    {
     "data": {
      "text/plain": [
       "242    0.770112\n",
       "339   -0.467750\n",
       "579    0.657511\n",
       "2      0.161634\n",
       "246   -0.070068\n",
       "         ...   \n",
       "87     0.499949\n",
       "658   -0.158044\n",
       "52    -0.703087\n",
       "238    1.528313\n",
       "707   -0.551718\n",
       "Name: LungCap, Length: 580, dtype: float64"
      ]
     },
     "execution_count": 41,
     "metadata": {},
     "output_type": "execute_result"
    }
   ],
   "source": [
    "err_train"
   ]
  },
  {
   "cell_type": "code",
   "execution_count": 42,
   "id": "e30d5470-6bb9-4b8c-99af-515525f7a630",
   "metadata": {},
   "outputs": [
    {
     "data": {
      "text/plain": [
       "446    0.223848\n",
       "451   -0.940024\n",
       "254    0.202775\n",
       "405    0.004992\n",
       "171   -0.708619\n",
       "         ...   \n",
       "315   -1.536979\n",
       "292    1.886544\n",
       "636    0.585956\n",
       "5      0.227108\n",
       "653   -0.265669\n",
       "Name: LungCap, Length: 145, dtype: float64"
      ]
     },
     "execution_count": 42,
     "metadata": {},
     "output_type": "execute_result"
    }
   ],
   "source": [
    "err_test"
   ]
  },
  {
   "cell_type": "code",
   "execution_count": 43,
   "id": "a9d0b162-4b75-4b51-928f-285a56cffa41",
   "metadata": {},
   "outputs": [
    {
     "data": {
      "text/plain": [
       "1.017135307077359"
      ]
     },
     "execution_count": 43,
     "metadata": {},
     "output_type": "execute_result"
    }
   ],
   "source": [
    "mse = np.mean(np.square(err_test))\n",
    "mse"
   ]
  },
  {
   "cell_type": "code",
   "execution_count": 44,
   "id": "2d3d00b3-3da9-45e8-9557-e9807b5380a8",
   "metadata": {},
   "outputs": [
    {
     "data": {
      "text/plain": [
       "1.0085312623202907"
      ]
     },
     "execution_count": 44,
     "metadata": {},
     "output_type": "execute_result"
    }
   ],
   "source": [
    "rmse = np.sqrt(mse)\n",
    "rmse"
   ]
  },
  {
   "cell_type": "code",
   "execution_count": 45,
   "id": "3204a1ee-a3c9-4a37-8257-fde462cdc293",
   "metadata": {},
   "outputs": [
    {
     "data": {
      "text/plain": [
       "13.051464784473513"
      ]
     },
     "execution_count": 45,
     "metadata": {},
     "output_type": "execute_result"
    }
   ],
   "source": [
    "mape = np.mean(np.abs(err_test * 100/lcn_test_y))\n",
    "mape"
   ]
  }
 ],
 "metadata": {
  "kernelspec": {
   "display_name": "Python 3 (ipykernel)",
   "language": "python",
   "name": "python3"
  },
  "language_info": {
   "codemirror_mode": {
    "name": "ipython",
    "version": 3
   },
   "file_extension": ".py",
   "mimetype": "text/x-python",
   "name": "python",
   "nbconvert_exporter": "python",
   "pygments_lexer": "ipython3",
   "version": "3.11.7"
  }
 },
 "nbformat": 4,
 "nbformat_minor": 5
}
